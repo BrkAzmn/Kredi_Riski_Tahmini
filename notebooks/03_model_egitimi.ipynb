{
 "cells": [
  {
   "cell_type": "code",
   "execution_count": null,
   "metadata": {},
   "outputs": [
    {
     "name": "stdout",
     "output_type": "stream",
     "text": [
      "📊 Kredi Riski Dağılımı:\n",
      "Kredi Riski\n",
      "0    96092\n",
      "1     3908\n",
      "Name: count, dtype: int64\n",
      "\n",
      "✅ Yeni Veri Seti Dengeli Hale Getirildi!\n",
      "Kredi Riski\n",
      "0    96092\n",
      "1    96092\n",
      "Name: count, dtype: int64\n",
      "\n",
      "✅ Model Doğruluk Oranı: 0.9669\n",
      "\n",
      "📊 Sınıflandırma Raporu:\n",
      "               precision    recall  f1-score   support\n",
      "\n",
      "           0       0.98      0.95      0.97     19219\n",
      "           1       0.95      0.98      0.97     19218\n",
      "\n",
      "    accuracy                           0.97     38437\n",
      "   macro avg       0.97      0.97      0.97     38437\n",
      "weighted avg       0.97      0.97      0.97     38437\n",
      "\n",
      "📊 Confusion Matrix:\n",
      " [[18238   981]\n",
      " [  293 18925]]\n",
      "\n",
      "✅ Model ve ölçekleyici başarıyla kaydedildi!\n"
     ]
    }
   ],
   "source": [
    "import pandas as pd\n",
    "import numpy as np\n",
    "import joblib\n",
    "import os\n",
    "from sklearn.model_selection import train_test_split\n",
    "from sklearn.preprocessing import StandardScaler\n",
    "from sklearn.linear_model import LogisticRegression\n",
    "from sklearn.utils import resample\n",
    "\n",
    "df = pd.read_csv(\"data/turkiye_kredi_riski.csv\")\n",
    "\n",
    "df = df[(df[\"Gelir (₺)\"] >= 10000) & (df[\"Gelir (₺)\"] <= 1000000)]\n",
    "df = df[(df[\"Findeks Skoru\"] >= 0) & (df[\"Findeks Skoru\"] <= 1900)]\n",
    "df = df[(df[\"Kredi Miktarı (₺)\"] >= 5000) & (df[\"Kredi Miktarı (₺)\"] <= 5000000)]\n",
    "df = df[(df[\"Borç/Gelir Oranı\"] >= 0.1) & (df[\"Borç/Gelir Oranı\"] <= 1.5)]\n",
    "df = df[(df[\"Geçmiş Gecikmeli Ödemeler\"] >= 0) & (df[\"Geçmiş Gecikmeli Ödemeler\"] <= 10)]\n",
    "df = df[(df[\"Çalışma Süresi (Yıl)\"] >= 1) & (df[\"Çalışma Süresi (Yıl)\"] <= 50)]\n",
    "\n",
    "low_risk = df[df[\"Kredi Riski\"] == 0]\n",
    "high_risk = df[df[\"Kredi Riski\"] == 1]\n",
    "\n",
    "if len(low_risk) > len(high_risk):\n",
    "    high_risk_upsampled = resample(high_risk, replace=True, n_samples=len(low_risk), random_state=42)\n",
    "    df = pd.concat([low_risk, high_risk_upsampled])\n",
    "else:\n",
    "    low_risk_upsampled = resample(low_risk, replace=True, n_samples=len(high_risk), random_state=42)\n",
    "    df = pd.concat([low_risk_upsampled, high_risk])\n",
    "\n",
    "X = df.drop(columns=[\"Müşteri ID\", \"Kredi Riski\"])\n",
    "y = df[\"Kredi Riski\"]\n",
    "\n",
    "X_train, X_test, y_train, y_test = train_test_split(X, y, test_size=0.2, random_state=42, stratify=y)\n",
    "\n",
    "scaler = StandardScaler()\n",
    "X_train_scaled = scaler.fit_transform(X_train)\n",
    "X_test_scaled = scaler.transform(X_test)\n",
    "\n",
    "model = LogisticRegression(C=0.7, class_weight=\"balanced\", max_iter=500)\n",
    "model.fit(X_train_scaled, y_train)\n",
    "\n",
      joblib.dump(model, os.path.join(MODELS_DIR, "turkiye_kredi_riski_model.pkl"))
      joblib.dump(scaler, os.path.join(MODELS_DIR, "turkiye_scaler.pkl"))
    "\n",
    "print(\"✅ Model ve ölçekleyici başarıyla kaydedildi.\")\n"
   ]
  }
 ],
 "metadata": {
  "kernelspec": {
   "display_name": "Python 3",
   "language": "python",
   "name": "python3"
  },
  "language_info": {
   "codemirror_mode": {
    "name": "ipython",
    "version": 3
   },
   "file_extension": ".py",
   "mimetype": "text/x-python",
   "name": "python",
   "nbconvert_exporter": "python",
   "pygments_lexer": "ipython3",
   "version": "3.13.2"
  }
 },
 "nbformat": 4,
 "nbformat_minor": 2
}
